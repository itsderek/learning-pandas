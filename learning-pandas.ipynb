{
 "cells": [
  {
   "cell_type": "markdown",
   "metadata": {},
   "source": [
    "# My Journey Through Pandas\n",
    "With the fundamentals of Python covered, I need to move on to my next goal. Pandas is a near universally accepted data manipulation library. I need to get fluent in using it, so I am going to cover what I learn here. Most (or all) of this will come from the pandas getting started document."
   ]
  },
  {
   "cell_type": "markdown",
   "metadata": {},
   "source": [
    "### imports for data science\n",
    "These are the de facto libraries needed to manipulate and visualize data."
   ]
  },
  {
   "cell_type": "code",
   "execution_count": 1,
   "metadata": {},
   "outputs": [],
   "source": [
    "import pandas as pd\n",
    "import numpy as np\n",
    "import matplotlib.pyplot as plt"
   ]
  },
  {
   "cell_type": "markdown",
   "metadata": {},
   "source": [
    "### bare minimum - dataframe creation\n",
    "dataframes seem to be the go to data manipulation structure."
   ]
  },
  {
   "cell_type": "code",
   "execution_count": 2,
   "metadata": {},
   "outputs": [
    {
     "data": {
      "text/html": [
       "<div>\n",
       "<style scoped>\n",
       "    .dataframe tbody tr th:only-of-type {\n",
       "        vertical-align: middle;\n",
       "    }\n",
       "\n",
       "    .dataframe tbody tr th {\n",
       "        vertical-align: top;\n",
       "    }\n",
       "\n",
       "    .dataframe thead th {\n",
       "        text-align: right;\n",
       "    }\n",
       "</style>\n",
       "<table border=\"1\" class=\"dataframe\">\n",
       "  <thead>\n",
       "    <tr style=\"text-align: right;\">\n",
       "      <th></th>\n",
       "      <th>A</th>\n",
       "      <th>B</th>\n",
       "      <th>C</th>\n",
       "      <th>D</th>\n",
       "    </tr>\n",
       "  </thead>\n",
       "  <tbody>\n",
       "    <tr>\n",
       "      <th>2018-04-30</th>\n",
       "      <td>-1.376581</td>\n",
       "      <td>-1.153729</td>\n",
       "      <td>-1.303206</td>\n",
       "      <td>1.113923</td>\n",
       "    </tr>\n",
       "    <tr>\n",
       "      <th>2018-05-31</th>\n",
       "      <td>-0.853170</td>\n",
       "      <td>1.020163</td>\n",
       "      <td>-1.236221</td>\n",
       "      <td>-0.103274</td>\n",
       "    </tr>\n",
       "    <tr>\n",
       "      <th>2018-06-30</th>\n",
       "      <td>0.028134</td>\n",
       "      <td>0.224504</td>\n",
       "      <td>-1.448535</td>\n",
       "      <td>0.505337</td>\n",
       "    </tr>\n",
       "    <tr>\n",
       "      <th>2018-07-31</th>\n",
       "      <td>-1.472882</td>\n",
       "      <td>0.703676</td>\n",
       "      <td>1.767745</td>\n",
       "      <td>-0.224311</td>\n",
       "    </tr>\n",
       "    <tr>\n",
       "      <th>2018-08-31</th>\n",
       "      <td>-0.206523</td>\n",
       "      <td>-0.101991</td>\n",
       "      <td>1.814356</td>\n",
       "      <td>1.069452</td>\n",
       "    </tr>\n",
       "    <tr>\n",
       "      <th>2018-09-30</th>\n",
       "      <td>-0.511583</td>\n",
       "      <td>1.001103</td>\n",
       "      <td>-0.754448</td>\n",
       "      <td>1.046201</td>\n",
       "    </tr>\n",
       "    <tr>\n",
       "      <th>2018-10-31</th>\n",
       "      <td>1.055467</td>\n",
       "      <td>-1.155848</td>\n",
       "      <td>0.513229</td>\n",
       "      <td>-0.604691</td>\n",
       "    </tr>\n",
       "    <tr>\n",
       "      <th>2018-11-30</th>\n",
       "      <td>1.273583</td>\n",
       "      <td>-0.713253</td>\n",
       "      <td>-0.487358</td>\n",
       "      <td>-0.219365</td>\n",
       "    </tr>\n",
       "    <tr>\n",
       "      <th>2018-12-31</th>\n",
       "      <td>-0.701002</td>\n",
       "      <td>-1.361125</td>\n",
       "      <td>-1.573291</td>\n",
       "      <td>-3.773079</td>\n",
       "    </tr>\n",
       "  </tbody>\n",
       "</table>\n",
       "</div>"
      ],
      "text/plain": [
       "                   A         B         C         D\n",
       "2018-04-30 -1.376581 -1.153729 -1.303206  1.113923\n",
       "2018-05-31 -0.853170  1.020163 -1.236221 -0.103274\n",
       "2018-06-30  0.028134  0.224504 -1.448535  0.505337\n",
       "2018-07-31 -1.472882  0.703676  1.767745 -0.224311\n",
       "2018-08-31 -0.206523 -0.101991  1.814356  1.069452\n",
       "2018-09-30 -0.511583  1.001103 -0.754448  1.046201\n",
       "2018-10-31  1.055467 -1.155848  0.513229 -0.604691\n",
       "2018-11-30  1.273583 -0.713253 -0.487358 -0.219365\n",
       "2018-12-31 -0.701002 -1.361125 -1.573291 -3.773079"
      ]
     },
     "execution_count": 2,
     "metadata": {},
     "output_type": "execute_result"
    }
   ],
   "source": [
    "dates = pd.date_range('20180401', periods=9, freq='M') #Used for row labels\n",
    "\n",
    "df = pd.DataFrame(np.random.randn(9, 4), index=dates, columns=list('ABCD'))\n",
    "df"
   ]
  },
  {
   "cell_type": "markdown",
   "metadata": {},
   "source": [
    "### another way to create a dataframe\n",
    "This way uses a dictionary like implementation"
   ]
  },
  {
   "cell_type": "code",
   "execution_count": 3,
   "metadata": {},
   "outputs": [
    {
     "data": {
      "text/html": [
       "<div>\n",
       "<style scoped>\n",
       "    .dataframe tbody tr th:only-of-type {\n",
       "        vertical-align: middle;\n",
       "    }\n",
       "\n",
       "    .dataframe tbody tr th {\n",
       "        vertical-align: top;\n",
       "    }\n",
       "\n",
       "    .dataframe thead th {\n",
       "        text-align: right;\n",
       "    }\n",
       "</style>\n",
       "<table border=\"1\" class=\"dataframe\">\n",
       "  <thead>\n",
       "    <tr style=\"text-align: right;\">\n",
       "      <th></th>\n",
       "      <th>Red</th>\n",
       "      <th>Orange</th>\n",
       "      <th>Yellow</th>\n",
       "      <th>Green</th>\n",
       "      <th>Blue</th>\n",
       "      <th>Indigo</th>\n",
       "      <th>Violet</th>\n",
       "    </tr>\n",
       "  </thead>\n",
       "  <tbody>\n",
       "    <tr>\n",
       "      <th>0</th>\n",
       "      <td>1.0</td>\n",
       "      <td>2018-04-01</td>\n",
       "      <td>1.0</td>\n",
       "      <td>3</td>\n",
       "      <td>Burninator</td>\n",
       "      <td>0.074633</td>\n",
       "      <td>London</td>\n",
       "    </tr>\n",
       "    <tr>\n",
       "      <th>1</th>\n",
       "      <td>1.0</td>\n",
       "      <td>2018-04-01</td>\n",
       "      <td>1.0</td>\n",
       "      <td>3</td>\n",
       "      <td>Spicy</td>\n",
       "      <td>0.074633</td>\n",
       "      <td>London</td>\n",
       "    </tr>\n",
       "    <tr>\n",
       "      <th>2</th>\n",
       "      <td>1.0</td>\n",
       "      <td>2018-04-01</td>\n",
       "      <td>1.0</td>\n",
       "      <td>3</td>\n",
       "      <td>Mild</td>\n",
       "      <td>0.074633</td>\n",
       "      <td>London</td>\n",
       "    </tr>\n",
       "    <tr>\n",
       "      <th>3</th>\n",
       "      <td>1.0</td>\n",
       "      <td>2018-04-01</td>\n",
       "      <td>1.0</td>\n",
       "      <td>3</td>\n",
       "      <td>Minty</td>\n",
       "      <td>0.074633</td>\n",
       "      <td>London</td>\n",
       "    </tr>\n",
       "  </tbody>\n",
       "</table>\n",
       "</div>"
      ],
      "text/plain": [
       "   Red     Orange  Yellow  Green        Blue    Indigo  Violet\n",
       "0  1.0 2018-04-01     1.0      3  Burninator  0.074633  London\n",
       "1  1.0 2018-04-01     1.0      3       Spicy  0.074633  London\n",
       "2  1.0 2018-04-01     1.0      3        Mild  0.074633  London\n",
       "3  1.0 2018-04-01     1.0      3       Minty  0.074633  London"
      ]
     },
     "execution_count": 3,
     "metadata": {},
     "output_type": "execute_result"
    }
   ],
   "source": [
    "df2 = pd.DataFrame({'Red': 1.0,\n",
    "                    'Orange': pd.Timestamp('20180401'),\n",
    "                    'Yellow': pd.Series(1, index=list(range(4)), dtype='float32'),\n",
    "                    'Green': np.array([3] * 4, dtype='int32'),\n",
    "                    'Blue': pd.Categorical([\"Burninator\", \"Spicy\", \"Mild\", \"Minty\"]),\n",
    "                    'Indigo': np.random.randn(), \n",
    "                    'Violet': 'London'})\n",
    "df2"
   ]
  },
  {
   "cell_type": "code",
   "execution_count": 4,
   "metadata": {},
   "outputs": [
    {
     "data": {
      "text/plain": [
       "Red              float64\n",
       "Orange    datetime64[ns]\n",
       "Yellow           float32\n",
       "Green              int32\n",
       "Blue            category\n",
       "Indigo           float64\n",
       "Violet            object\n",
       "dtype: object"
      ]
     },
     "execution_count": 4,
     "metadata": {},
     "output_type": "execute_result"
    }
   ],
   "source": [
    "df2.dtypes"
   ]
  },
  {
   "cell_type": "markdown",
   "metadata": {},
   "source": [
    "### Representing the data"
   ]
  },
  {
   "cell_type": "code",
   "execution_count": 5,
   "metadata": {},
   "outputs": [
    {
     "data": {
      "text/html": [
       "<div>\n",
       "<style scoped>\n",
       "    .dataframe tbody tr th:only-of-type {\n",
       "        vertical-align: middle;\n",
       "    }\n",
       "\n",
       "    .dataframe tbody tr th {\n",
       "        vertical-align: top;\n",
       "    }\n",
       "\n",
       "    .dataframe thead th {\n",
       "        text-align: right;\n",
       "    }\n",
       "</style>\n",
       "<table border=\"1\" class=\"dataframe\">\n",
       "  <thead>\n",
       "    <tr style=\"text-align: right;\">\n",
       "      <th></th>\n",
       "      <th>A</th>\n",
       "      <th>B</th>\n",
       "      <th>C</th>\n",
       "      <th>D</th>\n",
       "    </tr>\n",
       "  </thead>\n",
       "  <tbody>\n",
       "    <tr>\n",
       "      <th>2018-04-30</th>\n",
       "      <td>-1.376581</td>\n",
       "      <td>-1.153729</td>\n",
       "      <td>-1.303206</td>\n",
       "      <td>1.113923</td>\n",
       "    </tr>\n",
       "    <tr>\n",
       "      <th>2018-05-31</th>\n",
       "      <td>-0.853170</td>\n",
       "      <td>1.020163</td>\n",
       "      <td>-1.236221</td>\n",
       "      <td>-0.103274</td>\n",
       "    </tr>\n",
       "    <tr>\n",
       "      <th>2018-06-30</th>\n",
       "      <td>0.028134</td>\n",
       "      <td>0.224504</td>\n",
       "      <td>-1.448535</td>\n",
       "      <td>0.505337</td>\n",
       "    </tr>\n",
       "    <tr>\n",
       "      <th>2018-07-31</th>\n",
       "      <td>-1.472882</td>\n",
       "      <td>0.703676</td>\n",
       "      <td>1.767745</td>\n",
       "      <td>-0.224311</td>\n",
       "    </tr>\n",
       "    <tr>\n",
       "      <th>2018-08-31</th>\n",
       "      <td>-0.206523</td>\n",
       "      <td>-0.101991</td>\n",
       "      <td>1.814356</td>\n",
       "      <td>1.069452</td>\n",
       "    </tr>\n",
       "  </tbody>\n",
       "</table>\n",
       "</div>"
      ],
      "text/plain": [
       "                   A         B         C         D\n",
       "2018-04-30 -1.376581 -1.153729 -1.303206  1.113923\n",
       "2018-05-31 -0.853170  1.020163 -1.236221 -0.103274\n",
       "2018-06-30  0.028134  0.224504 -1.448535  0.505337\n",
       "2018-07-31 -1.472882  0.703676  1.767745 -0.224311\n",
       "2018-08-31 -0.206523 -0.101991  1.814356  1.069452"
      ]
     },
     "execution_count": 5,
     "metadata": {},
     "output_type": "execute_result"
    }
   ],
   "source": [
    "df.head() #displays first 5 rows if you pass no arguments"
   ]
  },
  {
   "cell_type": "code",
   "execution_count": 6,
   "metadata": {},
   "outputs": [
    {
     "data": {
      "text/html": [
       "<div>\n",
       "<style scoped>\n",
       "    .dataframe tbody tr th:only-of-type {\n",
       "        vertical-align: middle;\n",
       "    }\n",
       "\n",
       "    .dataframe tbody tr th {\n",
       "        vertical-align: top;\n",
       "    }\n",
       "\n",
       "    .dataframe thead th {\n",
       "        text-align: right;\n",
       "    }\n",
       "</style>\n",
       "<table border=\"1\" class=\"dataframe\">\n",
       "  <thead>\n",
       "    <tr style=\"text-align: right;\">\n",
       "      <th></th>\n",
       "      <th>A</th>\n",
       "      <th>B</th>\n",
       "      <th>C</th>\n",
       "      <th>D</th>\n",
       "    </tr>\n",
       "  </thead>\n",
       "  <tbody>\n",
       "    <tr>\n",
       "      <th>2018-10-31</th>\n",
       "      <td>1.055467</td>\n",
       "      <td>-1.155848</td>\n",
       "      <td>0.513229</td>\n",
       "      <td>-0.604691</td>\n",
       "    </tr>\n",
       "    <tr>\n",
       "      <th>2018-11-30</th>\n",
       "      <td>1.273583</td>\n",
       "      <td>-0.713253</td>\n",
       "      <td>-0.487358</td>\n",
       "      <td>-0.219365</td>\n",
       "    </tr>\n",
       "    <tr>\n",
       "      <th>2018-12-31</th>\n",
       "      <td>-0.701002</td>\n",
       "      <td>-1.361125</td>\n",
       "      <td>-1.573291</td>\n",
       "      <td>-3.773079</td>\n",
       "    </tr>\n",
       "  </tbody>\n",
       "</table>\n",
       "</div>"
      ],
      "text/plain": [
       "                   A         B         C         D\n",
       "2018-10-31  1.055467 -1.155848  0.513229 -0.604691\n",
       "2018-11-30  1.273583 -0.713253 -0.487358 -0.219365\n",
       "2018-12-31 -0.701002 -1.361125 -1.573291 -3.773079"
      ]
     },
     "execution_count": 6,
     "metadata": {},
     "output_type": "execute_result"
    }
   ],
   "source": [
    "df.tail(3) #displays the last n rows"
   ]
  },
  {
   "cell_type": "code",
   "execution_count": 7,
   "metadata": {},
   "outputs": [
    {
     "data": {
      "text/plain": [
       "DatetimeIndex(['2018-04-30', '2018-05-31', '2018-06-30', '2018-07-31',\n",
       "               '2018-08-31', '2018-09-30', '2018-10-31', '2018-11-30',\n",
       "               '2018-12-31'],\n",
       "              dtype='datetime64[ns]', freq='M')"
      ]
     },
     "execution_count": 7,
     "metadata": {},
     "output_type": "execute_result"
    }
   ],
   "source": [
    "df.index #displays information about the index (index is the row labels)"
   ]
  },
  {
   "cell_type": "code",
   "execution_count": 9,
   "metadata": {},
   "outputs": [
    {
     "data": {
      "text/plain": [
       "Index(['A', 'B', 'C', 'D'], dtype='object')"
      ]
     },
     "execution_count": 9,
     "metadata": {},
     "output_type": "execute_result"
    }
   ],
   "source": [
    "df.columns #displays information about the columns (columns are the column labels)"
   ]
  },
  {
   "cell_type": "code",
   "execution_count": 10,
   "metadata": {},
   "outputs": [
    {
     "data": {
      "text/html": [
       "<div>\n",
       "<style scoped>\n",
       "    .dataframe tbody tr th:only-of-type {\n",
       "        vertical-align: middle;\n",
       "    }\n",
       "\n",
       "    .dataframe tbody tr th {\n",
       "        vertical-align: top;\n",
       "    }\n",
       "\n",
       "    .dataframe thead th {\n",
       "        text-align: right;\n",
       "    }\n",
       "</style>\n",
       "<table border=\"1\" class=\"dataframe\">\n",
       "  <thead>\n",
       "    <tr style=\"text-align: right;\">\n",
       "      <th></th>\n",
       "      <th>A</th>\n",
       "      <th>B</th>\n",
       "      <th>C</th>\n",
       "      <th>D</th>\n",
       "    </tr>\n",
       "  </thead>\n",
       "  <tbody>\n",
       "    <tr>\n",
       "      <th>count</th>\n",
       "      <td>9.000000</td>\n",
       "      <td>9.000000</td>\n",
       "      <td>9.000000</td>\n",
       "      <td>9.000000</td>\n",
       "    </tr>\n",
       "    <tr>\n",
       "      <th>mean</th>\n",
       "      <td>-0.307173</td>\n",
       "      <td>-0.170722</td>\n",
       "      <td>-0.300859</td>\n",
       "      <td>-0.132201</td>\n",
       "    </tr>\n",
       "    <tr>\n",
       "      <th>std</th>\n",
       "      <td>0.966673</td>\n",
       "      <td>0.959496</td>\n",
       "      <td>1.345008</td>\n",
       "      <td>1.511954</td>\n",
       "    </tr>\n",
       "    <tr>\n",
       "      <th>min</th>\n",
       "      <td>-1.472882</td>\n",
       "      <td>-1.361125</td>\n",
       "      <td>-1.573291</td>\n",
       "      <td>-3.773079</td>\n",
       "    </tr>\n",
       "    <tr>\n",
       "      <th>25%</th>\n",
       "      <td>-0.853170</td>\n",
       "      <td>-1.153729</td>\n",
       "      <td>-1.303206</td>\n",
       "      <td>-0.224311</td>\n",
       "    </tr>\n",
       "    <tr>\n",
       "      <th>50%</th>\n",
       "      <td>-0.511583</td>\n",
       "      <td>-0.101991</td>\n",
       "      <td>-0.754448</td>\n",
       "      <td>-0.103274</td>\n",
       "    </tr>\n",
       "    <tr>\n",
       "      <th>75%</th>\n",
       "      <td>0.028134</td>\n",
       "      <td>0.703676</td>\n",
       "      <td>0.513229</td>\n",
       "      <td>1.046201</td>\n",
       "    </tr>\n",
       "    <tr>\n",
       "      <th>max</th>\n",
       "      <td>1.273583</td>\n",
       "      <td>1.020163</td>\n",
       "      <td>1.814356</td>\n",
       "      <td>1.113923</td>\n",
       "    </tr>\n",
       "  </tbody>\n",
       "</table>\n",
       "</div>"
      ],
      "text/plain": [
       "              A         B         C         D\n",
       "count  9.000000  9.000000  9.000000  9.000000\n",
       "mean  -0.307173 -0.170722 -0.300859 -0.132201\n",
       "std    0.966673  0.959496  1.345008  1.511954\n",
       "min   -1.472882 -1.361125 -1.573291 -3.773079\n",
       "25%   -0.853170 -1.153729 -1.303206 -0.224311\n",
       "50%   -0.511583 -0.101991 -0.754448 -0.103274\n",
       "75%    0.028134  0.703676  0.513229  1.046201\n",
       "max    1.273583  1.020163  1.814356  1.113923"
      ]
     },
     "execution_count": 10,
     "metadata": {},
     "output_type": "execute_result"
    }
   ],
   "source": [
    "df.describe() #extremely useful statistical summary of your dataframe"
   ]
  },
  {
   "cell_type": "code",
   "execution_count": 13,
   "metadata": {},
   "outputs": [
    {
     "data": {
      "text/html": [
       "<div>\n",
       "<style scoped>\n",
       "    .dataframe tbody tr th:only-of-type {\n",
       "        vertical-align: middle;\n",
       "    }\n",
       "\n",
       "    .dataframe tbody tr th {\n",
       "        vertical-align: top;\n",
       "    }\n",
       "\n",
       "    .dataframe thead th {\n",
       "        text-align: right;\n",
       "    }\n",
       "</style>\n",
       "<table border=\"1\" class=\"dataframe\">\n",
       "  <thead>\n",
       "    <tr style=\"text-align: right;\">\n",
       "      <th></th>\n",
       "      <th>D</th>\n",
       "      <th>C</th>\n",
       "      <th>B</th>\n",
       "      <th>A</th>\n",
       "    </tr>\n",
       "  </thead>\n",
       "  <tbody>\n",
       "    <tr>\n",
       "      <th>2018-04-30</th>\n",
       "      <td>1.113923</td>\n",
       "      <td>-1.303206</td>\n",
       "      <td>-1.153729</td>\n",
       "      <td>-1.376581</td>\n",
       "    </tr>\n",
       "    <tr>\n",
       "      <th>2018-05-31</th>\n",
       "      <td>-0.103274</td>\n",
       "      <td>-1.236221</td>\n",
       "      <td>1.020163</td>\n",
       "      <td>-0.853170</td>\n",
       "    </tr>\n",
       "    <tr>\n",
       "      <th>2018-06-30</th>\n",
       "      <td>0.505337</td>\n",
       "      <td>-1.448535</td>\n",
       "      <td>0.224504</td>\n",
       "      <td>0.028134</td>\n",
       "    </tr>\n",
       "    <tr>\n",
       "      <th>2018-07-31</th>\n",
       "      <td>-0.224311</td>\n",
       "      <td>1.767745</td>\n",
       "      <td>0.703676</td>\n",
       "      <td>-1.472882</td>\n",
       "    </tr>\n",
       "    <tr>\n",
       "      <th>2018-08-31</th>\n",
       "      <td>1.069452</td>\n",
       "      <td>1.814356</td>\n",
       "      <td>-0.101991</td>\n",
       "      <td>-0.206523</td>\n",
       "    </tr>\n",
       "    <tr>\n",
       "      <th>2018-09-30</th>\n",
       "      <td>1.046201</td>\n",
       "      <td>-0.754448</td>\n",
       "      <td>1.001103</td>\n",
       "      <td>-0.511583</td>\n",
       "    </tr>\n",
       "    <tr>\n",
       "      <th>2018-10-31</th>\n",
       "      <td>-0.604691</td>\n",
       "      <td>0.513229</td>\n",
       "      <td>-1.155848</td>\n",
       "      <td>1.055467</td>\n",
       "    </tr>\n",
       "    <tr>\n",
       "      <th>2018-11-30</th>\n",
       "      <td>-0.219365</td>\n",
       "      <td>-0.487358</td>\n",
       "      <td>-0.713253</td>\n",
       "      <td>1.273583</td>\n",
       "    </tr>\n",
       "    <tr>\n",
       "      <th>2018-12-31</th>\n",
       "      <td>-3.773079</td>\n",
       "      <td>-1.573291</td>\n",
       "      <td>-1.361125</td>\n",
       "      <td>-0.701002</td>\n",
       "    </tr>\n",
       "  </tbody>\n",
       "</table>\n",
       "</div>"
      ],
      "text/plain": [
       "                   D         C         B         A\n",
       "2018-04-30  1.113923 -1.303206 -1.153729 -1.376581\n",
       "2018-05-31 -0.103274 -1.236221  1.020163 -0.853170\n",
       "2018-06-30  0.505337 -1.448535  0.224504  0.028134\n",
       "2018-07-31 -0.224311  1.767745  0.703676 -1.472882\n",
       "2018-08-31  1.069452  1.814356 -0.101991 -0.206523\n",
       "2018-09-30  1.046201 -0.754448  1.001103 -0.511583\n",
       "2018-10-31 -0.604691  0.513229 -1.155848  1.055467\n",
       "2018-11-30 -0.219365 -0.487358 -0.713253  1.273583\n",
       "2018-12-31 -3.773079 -1.573291 -1.361125 -0.701002"
      ]
     },
     "execution_count": 13,
     "metadata": {},
     "output_type": "execute_result"
    }
   ],
   "source": [
    "df.sort_index(axis=1, ascending=False) #this sorts by the axis, axis=0 sorts by row labels (default) \n",
    "                                       #and axis=1 sorts by column lables"
   ]
  },
  {
   "cell_type": "code",
   "execution_count": 17,
   "metadata": {},
   "outputs": [
    {
     "data": {
      "text/html": [
       "<div>\n",
       "<style scoped>\n",
       "    .dataframe tbody tr th:only-of-type {\n",
       "        vertical-align: middle;\n",
       "    }\n",
       "\n",
       "    .dataframe tbody tr th {\n",
       "        vertical-align: top;\n",
       "    }\n",
       "\n",
       "    .dataframe thead th {\n",
       "        text-align: right;\n",
       "    }\n",
       "</style>\n",
       "<table border=\"1\" class=\"dataframe\">\n",
       "  <thead>\n",
       "    <tr style=\"text-align: right;\">\n",
       "      <th></th>\n",
       "      <th>A</th>\n",
       "      <th>B</th>\n",
       "      <th>C</th>\n",
       "      <th>D</th>\n",
       "    </tr>\n",
       "  </thead>\n",
       "  <tbody>\n",
       "    <tr>\n",
       "      <th>2018-12-31</th>\n",
       "      <td>-0.701002</td>\n",
       "      <td>-1.361125</td>\n",
       "      <td>-1.573291</td>\n",
       "      <td>-3.773079</td>\n",
       "    </tr>\n",
       "    <tr>\n",
       "      <th>2018-06-30</th>\n",
       "      <td>0.028134</td>\n",
       "      <td>0.224504</td>\n",
       "      <td>-1.448535</td>\n",
       "      <td>0.505337</td>\n",
       "    </tr>\n",
       "    <tr>\n",
       "      <th>2018-04-30</th>\n",
       "      <td>-1.376581</td>\n",
       "      <td>-1.153729</td>\n",
       "      <td>-1.303206</td>\n",
       "      <td>1.113923</td>\n",
       "    </tr>\n",
       "    <tr>\n",
       "      <th>2018-05-31</th>\n",
       "      <td>-0.853170</td>\n",
       "      <td>1.020163</td>\n",
       "      <td>-1.236221</td>\n",
       "      <td>-0.103274</td>\n",
       "    </tr>\n",
       "    <tr>\n",
       "      <th>2018-09-30</th>\n",
       "      <td>-0.511583</td>\n",
       "      <td>1.001103</td>\n",
       "      <td>-0.754448</td>\n",
       "      <td>1.046201</td>\n",
       "    </tr>\n",
       "    <tr>\n",
       "      <th>2018-11-30</th>\n",
       "      <td>1.273583</td>\n",
       "      <td>-0.713253</td>\n",
       "      <td>-0.487358</td>\n",
       "      <td>-0.219365</td>\n",
       "    </tr>\n",
       "    <tr>\n",
       "      <th>2018-10-31</th>\n",
       "      <td>1.055467</td>\n",
       "      <td>-1.155848</td>\n",
       "      <td>0.513229</td>\n",
       "      <td>-0.604691</td>\n",
       "    </tr>\n",
       "    <tr>\n",
       "      <th>2018-07-31</th>\n",
       "      <td>-1.472882</td>\n",
       "      <td>0.703676</td>\n",
       "      <td>1.767745</td>\n",
       "      <td>-0.224311</td>\n",
       "    </tr>\n",
       "    <tr>\n",
       "      <th>2018-08-31</th>\n",
       "      <td>-0.206523</td>\n",
       "      <td>-0.101991</td>\n",
       "      <td>1.814356</td>\n",
       "      <td>1.069452</td>\n",
       "    </tr>\n",
       "  </tbody>\n",
       "</table>\n",
       "</div>"
      ],
      "text/plain": [
       "                   A         B         C         D\n",
       "2018-12-31 -0.701002 -1.361125 -1.573291 -3.773079\n",
       "2018-06-30  0.028134  0.224504 -1.448535  0.505337\n",
       "2018-04-30 -1.376581 -1.153729 -1.303206  1.113923\n",
       "2018-05-31 -0.853170  1.020163 -1.236221 -0.103274\n",
       "2018-09-30 -0.511583  1.001103 -0.754448  1.046201\n",
       "2018-11-30  1.273583 -0.713253 -0.487358 -0.219365\n",
       "2018-10-31  1.055467 -1.155848  0.513229 -0.604691\n",
       "2018-07-31 -1.472882  0.703676  1.767745 -0.224311\n",
       "2018-08-31 -0.206523 -0.101991  1.814356  1.069452"
      ]
     },
     "execution_count": 17,
     "metadata": {},
     "output_type": "execute_result"
    }
   ],
   "source": [
    "df.sort_values(by=['C', 'A'], kind='mergesort') #sorts values by column(s) supplied"
   ]
  },
  {
   "cell_type": "markdown",
   "metadata": {},
   "source": [
    "### Data selection and manipulation"
   ]
  },
  {
   "cell_type": "code",
   "execution_count": 19,
   "metadata": {},
   "outputs": [
    {
     "data": {
      "text/plain": [
       "2018-04-30   -1.153729\n",
       "2018-05-31    1.020163\n",
       "2018-06-30    0.224504\n",
       "2018-07-31    0.703676\n",
       "2018-08-31   -0.101991\n",
       "2018-09-30    1.001103\n",
       "2018-10-31   -1.155848\n",
       "2018-11-30   -0.713253\n",
       "2018-12-31   -1.361125\n",
       "Freq: M, Name: B, dtype: float64"
      ]
     },
     "execution_count": 19,
     "metadata": {},
     "output_type": "execute_result"
    }
   ],
   "source": [
    "df['B'] #accessing a single column"
   ]
  },
  {
   "cell_type": "code",
   "execution_count": 24,
   "metadata": {},
   "outputs": [
    {
     "data": {
      "text/html": [
       "<div>\n",
       "<style scoped>\n",
       "    .dataframe tbody tr th:only-of-type {\n",
       "        vertical-align: middle;\n",
       "    }\n",
       "\n",
       "    .dataframe tbody tr th {\n",
       "        vertical-align: top;\n",
       "    }\n",
       "\n",
       "    .dataframe thead th {\n",
       "        text-align: right;\n",
       "    }\n",
       "</style>\n",
       "<table border=\"1\" class=\"dataframe\">\n",
       "  <thead>\n",
       "    <tr style=\"text-align: right;\">\n",
       "      <th></th>\n",
       "      <th>A</th>\n",
       "      <th>B</th>\n",
       "      <th>C</th>\n",
       "      <th>D</th>\n",
       "    </tr>\n",
       "  </thead>\n",
       "  <tbody>\n",
       "    <tr>\n",
       "      <th>2018-04-30</th>\n",
       "      <td>-1.376581</td>\n",
       "      <td>-1.153729</td>\n",
       "      <td>-1.303206</td>\n",
       "      <td>1.113923</td>\n",
       "    </tr>\n",
       "    <tr>\n",
       "      <th>2018-05-31</th>\n",
       "      <td>-0.853170</td>\n",
       "      <td>1.020163</td>\n",
       "      <td>-1.236221</td>\n",
       "      <td>-0.103274</td>\n",
       "    </tr>\n",
       "  </tbody>\n",
       "</table>\n",
       "</div>"
      ],
      "text/plain": [
       "                   A         B         C         D\n",
       "2018-04-30 -1.376581 -1.153729 -1.303206  1.113923\n",
       "2018-05-31 -0.853170  1.020163 -1.236221 -0.103274"
      ]
     },
     "execution_count": 24,
     "metadata": {},
     "output_type": "execute_result"
    }
   ],
   "source": [
    "df[0:2] #slices by row number"
   ]
  },
  {
   "cell_type": "code",
   "execution_count": 26,
   "metadata": {},
   "outputs": [
    {
     "data": {
      "text/html": [
       "<div>\n",
       "<style scoped>\n",
       "    .dataframe tbody tr th:only-of-type {\n",
       "        vertical-align: middle;\n",
       "    }\n",
       "\n",
       "    .dataframe tbody tr th {\n",
       "        vertical-align: top;\n",
       "    }\n",
       "\n",
       "    .dataframe thead th {\n",
       "        text-align: right;\n",
       "    }\n",
       "</style>\n",
       "<table border=\"1\" class=\"dataframe\">\n",
       "  <thead>\n",
       "    <tr style=\"text-align: right;\">\n",
       "      <th></th>\n",
       "      <th>A</th>\n",
       "      <th>B</th>\n",
       "      <th>C</th>\n",
       "      <th>D</th>\n",
       "    </tr>\n",
       "  </thead>\n",
       "  <tbody>\n",
       "    <tr>\n",
       "      <th>2018-08-31</th>\n",
       "      <td>-0.206523</td>\n",
       "      <td>-0.101991</td>\n",
       "      <td>1.814356</td>\n",
       "      <td>1.069452</td>\n",
       "    </tr>\n",
       "    <tr>\n",
       "      <th>2018-09-30</th>\n",
       "      <td>-0.511583</td>\n",
       "      <td>1.001103</td>\n",
       "      <td>-0.754448</td>\n",
       "      <td>1.046201</td>\n",
       "    </tr>\n",
       "    <tr>\n",
       "      <th>2018-10-31</th>\n",
       "      <td>1.055467</td>\n",
       "      <td>-1.155848</td>\n",
       "      <td>0.513229</td>\n",
       "      <td>-0.604691</td>\n",
       "    </tr>\n",
       "  </tbody>\n",
       "</table>\n",
       "</div>"
      ],
      "text/plain": [
       "                   A         B         C         D\n",
       "2018-08-31 -0.206523 -0.101991  1.814356  1.069452\n",
       "2018-09-30 -0.511583  1.001103 -0.754448  1.046201\n",
       "2018-10-31  1.055467 -1.155848  0.513229 -0.604691"
      ]
     },
     "execution_count": 26,
     "metadata": {},
     "output_type": "execute_result"
    }
   ],
   "source": [
    "df['2018-08-31':'2018-10-31'] #slices by row label"
   ]
  },
  {
   "cell_type": "code",
   "execution_count": 29,
   "metadata": {},
   "outputs": [
    {
     "data": {
      "text/html": [
       "<div>\n",
       "<style scoped>\n",
       "    .dataframe tbody tr th:only-of-type {\n",
       "        vertical-align: middle;\n",
       "    }\n",
       "\n",
       "    .dataframe tbody tr th {\n",
       "        vertical-align: top;\n",
       "    }\n",
       "\n",
       "    .dataframe thead th {\n",
       "        text-align: right;\n",
       "    }\n",
       "</style>\n",
       "<table border=\"1\" class=\"dataframe\">\n",
       "  <thead>\n",
       "    <tr style=\"text-align: right;\">\n",
       "      <th></th>\n",
       "      <th>C</th>\n",
       "      <th>A</th>\n",
       "    </tr>\n",
       "  </thead>\n",
       "  <tbody>\n",
       "    <tr>\n",
       "      <th>2018-04-30</th>\n",
       "      <td>-1.303206</td>\n",
       "      <td>-1.376581</td>\n",
       "    </tr>\n",
       "    <tr>\n",
       "      <th>2018-05-31</th>\n",
       "      <td>-1.236221</td>\n",
       "      <td>-0.853170</td>\n",
       "    </tr>\n",
       "    <tr>\n",
       "      <th>2018-06-30</th>\n",
       "      <td>-1.448535</td>\n",
       "      <td>0.028134</td>\n",
       "    </tr>\n",
       "    <tr>\n",
       "      <th>2018-07-31</th>\n",
       "      <td>1.767745</td>\n",
       "      <td>-1.472882</td>\n",
       "    </tr>\n",
       "    <tr>\n",
       "      <th>2018-08-31</th>\n",
       "      <td>1.814356</td>\n",
       "      <td>-0.206523</td>\n",
       "    </tr>\n",
       "    <tr>\n",
       "      <th>2018-09-30</th>\n",
       "      <td>-0.754448</td>\n",
       "      <td>-0.511583</td>\n",
       "    </tr>\n",
       "    <tr>\n",
       "      <th>2018-10-31</th>\n",
       "      <td>0.513229</td>\n",
       "      <td>1.055467</td>\n",
       "    </tr>\n",
       "    <tr>\n",
       "      <th>2018-11-30</th>\n",
       "      <td>-0.487358</td>\n",
       "      <td>1.273583</td>\n",
       "    </tr>\n",
       "    <tr>\n",
       "      <th>2018-12-31</th>\n",
       "      <td>-1.573291</td>\n",
       "      <td>-0.701002</td>\n",
       "    </tr>\n",
       "  </tbody>\n",
       "</table>\n",
       "</div>"
      ],
      "text/plain": [
       "                   C         A\n",
       "2018-04-30 -1.303206 -1.376581\n",
       "2018-05-31 -1.236221 -0.853170\n",
       "2018-06-30 -1.448535  0.028134\n",
       "2018-07-31  1.767745 -1.472882\n",
       "2018-08-31  1.814356 -0.206523\n",
       "2018-09-30 -0.754448 -0.511583\n",
       "2018-10-31  0.513229  1.055467\n",
       "2018-11-30 -0.487358  1.273583\n",
       "2018-12-31 -1.573291 -0.701002"
      ]
     },
     "execution_count": 29,
     "metadata": {},
     "output_type": "execute_result"
    }
   ],
   "source": [
    "df[['C', 'A']] #selecting multiple columns via column names"
   ]
  },
  {
   "cell_type": "code",
   "execution_count": 31,
   "metadata": {},
   "outputs": [
    {
     "data": {
      "text/html": [
       "<div>\n",
       "<style scoped>\n",
       "    .dataframe tbody tr th:only-of-type {\n",
       "        vertical-align: middle;\n",
       "    }\n",
       "\n",
       "    .dataframe tbody tr th {\n",
       "        vertical-align: top;\n",
       "    }\n",
       "\n",
       "    .dataframe thead th {\n",
       "        text-align: right;\n",
       "    }\n",
       "</style>\n",
       "<table border=\"1\" class=\"dataframe\">\n",
       "  <thead>\n",
       "    <tr style=\"text-align: right;\">\n",
       "      <th></th>\n",
       "      <th>D</th>\n",
       "      <th>B</th>\n",
       "    </tr>\n",
       "  </thead>\n",
       "  <tbody>\n",
       "    <tr>\n",
       "      <th>2018-06-30</th>\n",
       "      <td>0.505337</td>\n",
       "      <td>0.224504</td>\n",
       "    </tr>\n",
       "    <tr>\n",
       "      <th>2018-07-31</th>\n",
       "      <td>-0.224311</td>\n",
       "      <td>0.703676</td>\n",
       "    </tr>\n",
       "    <tr>\n",
       "      <th>2018-08-31</th>\n",
       "      <td>1.069452</td>\n",
       "      <td>-0.101991</td>\n",
       "    </tr>\n",
       "    <tr>\n",
       "      <th>2018-09-30</th>\n",
       "      <td>1.046201</td>\n",
       "      <td>1.001103</td>\n",
       "    </tr>\n",
       "    <tr>\n",
       "      <th>2018-10-31</th>\n",
       "      <td>-0.604691</td>\n",
       "      <td>-1.155848</td>\n",
       "    </tr>\n",
       "    <tr>\n",
       "      <th>2018-11-30</th>\n",
       "      <td>-0.219365</td>\n",
       "      <td>-0.713253</td>\n",
       "    </tr>\n",
       "  </tbody>\n",
       "</table>\n",
       "</div>"
      ],
      "text/plain": [
       "                   D         B\n",
       "2018-06-30  0.505337  0.224504\n",
       "2018-07-31 -0.224311  0.703676\n",
       "2018-08-31  1.069452 -0.101991\n",
       "2018-09-30  1.046201  1.001103\n",
       "2018-10-31 -0.604691 -1.155848\n",
       "2018-11-30 -0.219365 -0.713253"
      ]
     },
     "execution_count": 31,
     "metadata": {},
     "output_type": "execute_result"
    }
   ],
   "source": [
    "df.loc['2018-06-30':'2018-11-30', ['D', 'B']] #limiting selection by rows and columns"
   ]
  },
  {
   "cell_type": "code",
   "execution_count": 32,
   "metadata": {},
   "outputs": [
    {
     "data": {
      "text/plain": [
       "A   -1.376581\n",
       "B   -1.153729\n",
       "C   -1.303206\n",
       "D    1.113923\n",
       "Name: 2018-04-30 00:00:00, dtype: float64"
      ]
     },
     "execution_count": 32,
     "metadata": {},
     "output_type": "execute_result"
    }
   ],
   "source": [
    "df.loc[dates[0]] #selecting a single row"
   ]
  },
  {
   "cell_type": "markdown",
   "metadata": {},
   "source": [
    "##### .at, .iat, .loc, and .iloc are the more optimized pandas methods and should be used when possible"
   ]
  },
  {
   "cell_type": "code",
   "execution_count": 33,
   "metadata": {},
   "outputs": [
    {
     "data": {
      "text/plain": [
       "A    0.028134\n",
       "B    0.224504\n",
       "C   -1.448535\n",
       "D    0.505337\n",
       "Name: 2018-06-30 00:00:00, dtype: float64"
      ]
     },
     "execution_count": 33,
     "metadata": {},
     "output_type": "execute_result"
    }
   ],
   "source": [
    "df.iloc[2] #accessing a specific row"
   ]
  },
  {
   "cell_type": "code",
   "execution_count": 34,
   "metadata": {},
   "outputs": [
    {
     "data": {
      "text/html": [
       "<div>\n",
       "<style scoped>\n",
       "    .dataframe tbody tr th:only-of-type {\n",
       "        vertical-align: middle;\n",
       "    }\n",
       "\n",
       "    .dataframe tbody tr th {\n",
       "        vertical-align: top;\n",
       "    }\n",
       "\n",
       "    .dataframe thead th {\n",
       "        text-align: right;\n",
       "    }\n",
       "</style>\n",
       "<table border=\"1\" class=\"dataframe\">\n",
       "  <thead>\n",
       "    <tr style=\"text-align: right;\">\n",
       "      <th></th>\n",
       "      <th>B</th>\n",
       "      <th>C</th>\n",
       "    </tr>\n",
       "  </thead>\n",
       "  <tbody>\n",
       "    <tr>\n",
       "      <th>2018-07-31</th>\n",
       "      <td>0.703676</td>\n",
       "      <td>1.767745</td>\n",
       "    </tr>\n",
       "    <tr>\n",
       "      <th>2018-08-31</th>\n",
       "      <td>-0.101991</td>\n",
       "      <td>1.814356</td>\n",
       "    </tr>\n",
       "    <tr>\n",
       "      <th>2018-09-30</th>\n",
       "      <td>1.001103</td>\n",
       "      <td>-0.754448</td>\n",
       "    </tr>\n",
       "    <tr>\n",
       "      <th>2018-10-31</th>\n",
       "      <td>-1.155848</td>\n",
       "      <td>0.513229</td>\n",
       "    </tr>\n",
       "  </tbody>\n",
       "</table>\n",
       "</div>"
      ],
      "text/plain": [
       "                   B         C\n",
       "2018-07-31  0.703676  1.767745\n",
       "2018-08-31 -0.101991  1.814356\n",
       "2018-09-30  1.001103 -0.754448\n",
       "2018-10-31 -1.155848  0.513229"
      ]
     },
     "execution_count": 34,
     "metadata": {},
     "output_type": "execute_result"
    }
   ],
   "source": [
    "df.iloc[3:7, 1:3] #accessing rows and columns"
   ]
  },
  {
   "cell_type": "markdown",
   "metadata": {},
   "source": [
    "#### limiting results based on conditions"
   ]
  },
  {
   "cell_type": "code",
   "execution_count": 35,
   "metadata": {},
   "outputs": [
    {
     "data": {
      "text/html": [
       "<div>\n",
       "<style scoped>\n",
       "    .dataframe tbody tr th:only-of-type {\n",
       "        vertical-align: middle;\n",
       "    }\n",
       "\n",
       "    .dataframe tbody tr th {\n",
       "        vertical-align: top;\n",
       "    }\n",
       "\n",
       "    .dataframe thead th {\n",
       "        text-align: right;\n",
       "    }\n",
       "</style>\n",
       "<table border=\"1\" class=\"dataframe\">\n",
       "  <thead>\n",
       "    <tr style=\"text-align: right;\">\n",
       "      <th></th>\n",
       "      <th>A</th>\n",
       "      <th>B</th>\n",
       "      <th>C</th>\n",
       "      <th>D</th>\n",
       "    </tr>\n",
       "  </thead>\n",
       "  <tbody>\n",
       "    <tr>\n",
       "      <th>2018-06-30</th>\n",
       "      <td>0.028134</td>\n",
       "      <td>0.224504</td>\n",
       "      <td>-1.448535</td>\n",
       "      <td>0.505337</td>\n",
       "    </tr>\n",
       "    <tr>\n",
       "      <th>2018-10-31</th>\n",
       "      <td>1.055467</td>\n",
       "      <td>-1.155848</td>\n",
       "      <td>0.513229</td>\n",
       "      <td>-0.604691</td>\n",
       "    </tr>\n",
       "    <tr>\n",
       "      <th>2018-11-30</th>\n",
       "      <td>1.273583</td>\n",
       "      <td>-0.713253</td>\n",
       "      <td>-0.487358</td>\n",
       "      <td>-0.219365</td>\n",
       "    </tr>\n",
       "  </tbody>\n",
       "</table>\n",
       "</div>"
      ],
      "text/plain": [
       "                   A         B         C         D\n",
       "2018-06-30  0.028134  0.224504 -1.448535  0.505337\n",
       "2018-10-31  1.055467 -1.155848  0.513229 -0.604691\n",
       "2018-11-30  1.273583 -0.713253 -0.487358 -0.219365"
      ]
     },
     "execution_count": 35,
     "metadata": {},
     "output_type": "execute_result"
    }
   ],
   "source": [
    "df[df.A > 0] #returns only the rows where A is greater than 0"
   ]
  }
 ],
 "metadata": {
  "kernelspec": {
   "display_name": "Python 3",
   "language": "python",
   "name": "python3"
  },
  "language_info": {
   "codemirror_mode": {
    "name": "ipython",
    "version": 3
   },
   "file_extension": ".py",
   "mimetype": "text/x-python",
   "name": "python",
   "nbconvert_exporter": "python",
   "pygments_lexer": "ipython3",
   "version": "3.7.1"
  }
 },
 "nbformat": 4,
 "nbformat_minor": 2
}
