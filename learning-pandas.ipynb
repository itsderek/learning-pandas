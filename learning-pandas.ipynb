{
 "cells": [
  {
   "cell_type": "markdown",
   "metadata": {},
   "source": [
    "# My Journey Through Pandas\n",
    "With the fundamentals of Python covered, I need to move on to my next goal. Pandas is a near universally accepted data manipulation library. I need to get fluent in using it, so I am going to cover what I learn here."
   ]
  },
  {
   "cell_type": "markdown",
   "metadata": {},
   "source": [
    "### imports for data science\n",
    "These are the de facto libraries needed to manipulate and visualize data."
   ]
  },
  {
   "cell_type": "code",
   "execution_count": 3,
   "metadata": {},
   "outputs": [],
   "source": [
    "import pandas as pd\n",
    "import numpy as np\n",
    "import matplotlib.pyplot as plt"
   ]
  },
  {
   "cell_type": "markdown",
   "metadata": {},
   "source": [
    "### bare minimum - dataframe creation\n",
    "dataframes seem to be the go to data manipulation structure."
   ]
  },
  {
   "cell_type": "code",
   "execution_count": 6,
   "metadata": {},
   "outputs": [
    {
     "data": {
      "text/html": [
       "<div>\n",
       "<style scoped>\n",
       "    .dataframe tbody tr th:only-of-type {\n",
       "        vertical-align: middle;\n",
       "    }\n",
       "\n",
       "    .dataframe tbody tr th {\n",
       "        vertical-align: top;\n",
       "    }\n",
       "\n",
       "    .dataframe thead th {\n",
       "        text-align: right;\n",
       "    }\n",
       "</style>\n",
       "<table border=\"1\" class=\"dataframe\">\n",
       "  <thead>\n",
       "    <tr style=\"text-align: right;\">\n",
       "      <th></th>\n",
       "      <th>A</th>\n",
       "      <th>B</th>\n",
       "      <th>C</th>\n",
       "      <th>D</th>\n",
       "    </tr>\n",
       "  </thead>\n",
       "  <tbody>\n",
       "    <tr>\n",
       "      <th>2018-04-30</th>\n",
       "      <td>0.601821</td>\n",
       "      <td>0.324701</td>\n",
       "      <td>1.103357</td>\n",
       "      <td>-0.987201</td>\n",
       "    </tr>\n",
       "    <tr>\n",
       "      <th>2018-05-31</th>\n",
       "      <td>0.083426</td>\n",
       "      <td>0.730014</td>\n",
       "      <td>-1.565929</td>\n",
       "      <td>-0.083231</td>\n",
       "    </tr>\n",
       "    <tr>\n",
       "      <th>2018-06-30</th>\n",
       "      <td>-0.864260</td>\n",
       "      <td>-0.335171</td>\n",
       "      <td>-1.257852</td>\n",
       "      <td>-0.740705</td>\n",
       "    </tr>\n",
       "    <tr>\n",
       "      <th>2018-07-31</th>\n",
       "      <td>1.496218</td>\n",
       "      <td>-0.030806</td>\n",
       "      <td>0.082025</td>\n",
       "      <td>-1.163921</td>\n",
       "    </tr>\n",
       "    <tr>\n",
       "      <th>2018-08-31</th>\n",
       "      <td>-0.195362</td>\n",
       "      <td>-1.000385</td>\n",
       "      <td>0.675709</td>\n",
       "      <td>-0.465959</td>\n",
       "    </tr>\n",
       "    <tr>\n",
       "      <th>2018-09-30</th>\n",
       "      <td>-0.980363</td>\n",
       "      <td>1.117969</td>\n",
       "      <td>0.089167</td>\n",
       "      <td>-1.307214</td>\n",
       "    </tr>\n",
       "    <tr>\n",
       "      <th>2018-10-31</th>\n",
       "      <td>1.387453</td>\n",
       "      <td>0.352328</td>\n",
       "      <td>0.545921</td>\n",
       "      <td>-0.577055</td>\n",
       "    </tr>\n",
       "    <tr>\n",
       "      <th>2018-11-30</th>\n",
       "      <td>0.115339</td>\n",
       "      <td>0.222344</td>\n",
       "      <td>0.529793</td>\n",
       "      <td>-1.188008</td>\n",
       "    </tr>\n",
       "    <tr>\n",
       "      <th>2018-12-31</th>\n",
       "      <td>-1.610291</td>\n",
       "      <td>-0.530199</td>\n",
       "      <td>0.143121</td>\n",
       "      <td>0.524934</td>\n",
       "    </tr>\n",
       "  </tbody>\n",
       "</table>\n",
       "</div>"
      ],
      "text/plain": [
       "                   A         B         C         D\n",
       "2018-04-30  0.601821  0.324701  1.103357 -0.987201\n",
       "2018-05-31  0.083426  0.730014 -1.565929 -0.083231\n",
       "2018-06-30 -0.864260 -0.335171 -1.257852 -0.740705\n",
       "2018-07-31  1.496218 -0.030806  0.082025 -1.163921\n",
       "2018-08-31 -0.195362 -1.000385  0.675709 -0.465959\n",
       "2018-09-30 -0.980363  1.117969  0.089167 -1.307214\n",
       "2018-10-31  1.387453  0.352328  0.545921 -0.577055\n",
       "2018-11-30  0.115339  0.222344  0.529793 -1.188008\n",
       "2018-12-31 -1.610291 -0.530199  0.143121  0.524934"
      ]
     },
     "execution_count": 6,
     "metadata": {},
     "output_type": "execute_result"
    }
   ],
   "source": [
    "dates = pd.date_range('20180401', periods=9, freq='M') #Used for row labels\n",
    "\n",
    "df = pd.DataFrame(np.random.randn(9, 4), index=dates, columns=list('ABCD'))\n",
    "df"
   ]
  },
  {
   "cell_type": "markdown",
   "metadata": {},
   "source": [
    "### another way to create a dataframe\n",
    "This way uses a dictionary like implementation"
   ]
  },
  {
   "cell_type": "code",
   "execution_count": 12,
   "metadata": {},
   "outputs": [
    {
     "data": {
      "text/html": [
       "<div>\n",
       "<style scoped>\n",
       "    .dataframe tbody tr th:only-of-type {\n",
       "        vertical-align: middle;\n",
       "    }\n",
       "\n",
       "    .dataframe tbody tr th {\n",
       "        vertical-align: top;\n",
       "    }\n",
       "\n",
       "    .dataframe thead th {\n",
       "        text-align: right;\n",
       "    }\n",
       "</style>\n",
       "<table border=\"1\" class=\"dataframe\">\n",
       "  <thead>\n",
       "    <tr style=\"text-align: right;\">\n",
       "      <th></th>\n",
       "      <th>Red</th>\n",
       "      <th>Orange</th>\n",
       "      <th>Yellow</th>\n",
       "      <th>Green</th>\n",
       "      <th>Blue</th>\n",
       "      <th>Indigo</th>\n",
       "      <th>Violet</th>\n",
       "    </tr>\n",
       "  </thead>\n",
       "  <tbody>\n",
       "    <tr>\n",
       "      <th>0</th>\n",
       "      <td>1.0</td>\n",
       "      <td>2018-04-01</td>\n",
       "      <td>1.0</td>\n",
       "      <td>3</td>\n",
       "      <td>Burninator</td>\n",
       "      <td>-0.298456</td>\n",
       "      <td>London</td>\n",
       "    </tr>\n",
       "    <tr>\n",
       "      <th>1</th>\n",
       "      <td>1.0</td>\n",
       "      <td>2018-04-01</td>\n",
       "      <td>1.0</td>\n",
       "      <td>3</td>\n",
       "      <td>Spicy</td>\n",
       "      <td>-0.298456</td>\n",
       "      <td>London</td>\n",
       "    </tr>\n",
       "    <tr>\n",
       "      <th>2</th>\n",
       "      <td>1.0</td>\n",
       "      <td>2018-04-01</td>\n",
       "      <td>1.0</td>\n",
       "      <td>3</td>\n",
       "      <td>Mild</td>\n",
       "      <td>-0.298456</td>\n",
       "      <td>London</td>\n",
       "    </tr>\n",
       "    <tr>\n",
       "      <th>3</th>\n",
       "      <td>1.0</td>\n",
       "      <td>2018-04-01</td>\n",
       "      <td>1.0</td>\n",
       "      <td>3</td>\n",
       "      <td>Minty</td>\n",
       "      <td>-0.298456</td>\n",
       "      <td>London</td>\n",
       "    </tr>\n",
       "  </tbody>\n",
       "</table>\n",
       "</div>"
      ],
      "text/plain": [
       "   Red     Orange  Yellow  Green        Blue    Indigo  Violet\n",
       "0  1.0 2018-04-01     1.0      3  Burninator -0.298456  London\n",
       "1  1.0 2018-04-01     1.0      3       Spicy -0.298456  London\n",
       "2  1.0 2018-04-01     1.0      3        Mild -0.298456  London\n",
       "3  1.0 2018-04-01     1.0      3       Minty -0.298456  London"
      ]
     },
     "execution_count": 12,
     "metadata": {},
     "output_type": "execute_result"
    }
   ],
   "source": [
    "df2 = pd.DataFrame({'Red': 1.0,\n",
    "                    'Orange': pd.Timestamp('20180401'),\n",
    "                    'Yellow': pd.Series(1, index=list(range(4)), dtype='float32'),\n",
    "                    'Green': np.array([3] * 4, dtype='int32'),\n",
    "                    'Blue': pd.Categorical([\"Burninator\", \"Spicy\", \"Mild\", \"Minty\"]),\n",
    "                    'Indigo': np.random.randn(), \n",
    "                    'Violet': 'London'})\n",
    "df2"
   ]
  },
  {
   "cell_type": "code",
   "execution_count": null,
   "metadata": {},
   "outputs": [],
   "source": []
  }
 ],
 "metadata": {
  "kernelspec": {
   "display_name": "Python 3",
   "language": "python",
   "name": "python3"
  },
  "language_info": {
   "codemirror_mode": {
    "name": "ipython",
    "version": 3
   },
   "file_extension": ".py",
   "mimetype": "text/x-python",
   "name": "python",
   "nbconvert_exporter": "python",
   "pygments_lexer": "ipython3",
   "version": "3.7.1"
  }
 },
 "nbformat": 4,
 "nbformat_minor": 2
}
